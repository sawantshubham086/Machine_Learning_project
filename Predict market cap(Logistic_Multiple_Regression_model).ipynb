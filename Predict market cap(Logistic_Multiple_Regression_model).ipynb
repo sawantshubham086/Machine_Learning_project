{
 "cells": [
  {
   "cell_type": "code",
   "execution_count": 2,
   "id": "5c189416",
   "metadata": {},
   "outputs": [],
   "source": [
    "import pandas as pd\n",
    "import numpy as np\n",
    "import sklearn\n",
    "#pip install -U scikit-learn "
   ]
  },
  {
   "cell_type": "code",
   "execution_count": 3,
   "id": "e40516e0",
   "metadata": {},
   "outputs": [],
   "source": [
    "df =pd.read_csv('D:/DATA/Projects/Cryptocurrency.csv')\n",
    "\n",
    "# predict marketcap volume of company"
   ]
  },
  {
   "cell_type": "code",
   "execution_count": 4,
   "id": "1f95449d",
   "metadata": {},
   "outputs": [
    {
     "data": {
      "text/html": [
       "<div>\n",
       "<style scoped>\n",
       "    .dataframe tbody tr th:only-of-type {\n",
       "        vertical-align: middle;\n",
       "    }\n",
       "\n",
       "    .dataframe tbody tr th {\n",
       "        vertical-align: top;\n",
       "    }\n",
       "\n",
       "    .dataframe thead th {\n",
       "        text-align: right;\n",
       "    }\n",
       "</style>\n",
       "<table border=\"1\" class=\"dataframe\">\n",
       "  <thead>\n",
       "    <tr style=\"text-align: right;\">\n",
       "      <th></th>\n",
       "      <th>Currency</th>\n",
       "      <th>Date</th>\n",
       "      <th>Open</th>\n",
       "      <th>High</th>\n",
       "      <th>Low</th>\n",
       "      <th>Close</th>\n",
       "      <th>Volume</th>\n",
       "      <th>Market Cap</th>\n",
       "    </tr>\n",
       "  </thead>\n",
       "  <tbody>\n",
       "    <tr>\n",
       "      <th>0</th>\n",
       "      <td>tezos</td>\n",
       "      <td>Dec 04, 2019</td>\n",
       "      <td>1.29</td>\n",
       "      <td>1.32</td>\n",
       "      <td>1.25</td>\n",
       "      <td>1.25</td>\n",
       "      <td>46048752.0</td>\n",
       "      <td>824588509</td>\n",
       "    </tr>\n",
       "    <tr>\n",
       "      <th>1</th>\n",
       "      <td>tezos</td>\n",
       "      <td>Dec 03, 2019</td>\n",
       "      <td>1.24</td>\n",
       "      <td>1.32</td>\n",
       "      <td>1.21</td>\n",
       "      <td>1.29</td>\n",
       "      <td>41462224.0</td>\n",
       "      <td>853213342</td>\n",
       "    </tr>\n",
       "    <tr>\n",
       "      <th>2</th>\n",
       "      <td>tezos</td>\n",
       "      <td>Dec 02, 2019</td>\n",
       "      <td>1.25</td>\n",
       "      <td>1.26</td>\n",
       "      <td>1.20</td>\n",
       "      <td>1.24</td>\n",
       "      <td>27574097.0</td>\n",
       "      <td>817872179</td>\n",
       "    </tr>\n",
       "    <tr>\n",
       "      <th>3</th>\n",
       "      <td>tezos</td>\n",
       "      <td>Dec 01, 2019</td>\n",
       "      <td>1.33</td>\n",
       "      <td>1.34</td>\n",
       "      <td>1.25</td>\n",
       "      <td>1.25</td>\n",
       "      <td>24127567.0</td>\n",
       "      <td>828296390</td>\n",
       "    </tr>\n",
       "    <tr>\n",
       "      <th>4</th>\n",
       "      <td>tezos</td>\n",
       "      <td>Nov 30, 2019</td>\n",
       "      <td>1.31</td>\n",
       "      <td>1.37</td>\n",
       "      <td>1.31</td>\n",
       "      <td>1.33</td>\n",
       "      <td>28706667.0</td>\n",
       "      <td>879181680</td>\n",
       "    </tr>\n",
       "  </tbody>\n",
       "</table>\n",
       "</div>"
      ],
      "text/plain": [
       "  Currency          Date  Open  High   Low  Close      Volume  Market Cap\n",
       "0    tezos  Dec 04, 2019  1.29  1.32  1.25   1.25  46048752.0   824588509\n",
       "1    tezos  Dec 03, 2019  1.24  1.32  1.21   1.29  41462224.0   853213342\n",
       "2    tezos  Dec 02, 2019  1.25  1.26  1.20   1.24  27574097.0   817872179\n",
       "3    tezos  Dec 01, 2019  1.33  1.34  1.25   1.25  24127567.0   828296390\n",
       "4    tezos  Nov 30, 2019  1.31  1.37  1.31   1.33  28706667.0   879181680"
      ]
     },
     "execution_count": 4,
     "metadata": {},
     "output_type": "execute_result"
    }
   ],
   "source": [
    "df.head()\n",
    "#x=Volume,Market Cap\n",
    "#y=Currency"
   ]
  },
  {
   "cell_type": "code",
   "execution_count": 5,
   "id": "59926433",
   "metadata": {},
   "outputs": [
    {
     "data": {
      "text/html": [
       "<div>\n",
       "<style scoped>\n",
       "    .dataframe tbody tr th:only-of-type {\n",
       "        vertical-align: middle;\n",
       "    }\n",
       "\n",
       "    .dataframe tbody tr th {\n",
       "        vertical-align: top;\n",
       "    }\n",
       "\n",
       "    .dataframe thead th {\n",
       "        text-align: right;\n",
       "    }\n",
       "</style>\n",
       "<table border=\"1\" class=\"dataframe\">\n",
       "  <thead>\n",
       "    <tr style=\"text-align: right;\">\n",
       "      <th></th>\n",
       "      <th>Currency</th>\n",
       "      <th>Date</th>\n",
       "      <th>Open</th>\n",
       "      <th>High</th>\n",
       "      <th>Low</th>\n",
       "      <th>Close</th>\n",
       "      <th>Volume</th>\n",
       "      <th>Market Cap</th>\n",
       "    </tr>\n",
       "  </thead>\n",
       "  <tbody>\n",
       "    <tr>\n",
       "      <th>7231</th>\n",
       "      <td>eos</td>\n",
       "      <td>May 02, 2013</td>\n",
       "      <td>3.78</td>\n",
       "      <td>4.04</td>\n",
       "      <td>3.01</td>\n",
       "      <td>3.37</td>\n",
       "      <td>0.0</td>\n",
       "      <td>58287979</td>\n",
       "    </tr>\n",
       "    <tr>\n",
       "      <th>7232</th>\n",
       "      <td>eos</td>\n",
       "      <td>May 01, 2013</td>\n",
       "      <td>4.29</td>\n",
       "      <td>4.36</td>\n",
       "      <td>3.52</td>\n",
       "      <td>3.80</td>\n",
       "      <td>0.0</td>\n",
       "      <td>65604596</td>\n",
       "    </tr>\n",
       "    <tr>\n",
       "      <th>7233</th>\n",
       "      <td>eos</td>\n",
       "      <td>Apr 30, 2013</td>\n",
       "      <td>4.40</td>\n",
       "      <td>4.57</td>\n",
       "      <td>4.17</td>\n",
       "      <td>4.30</td>\n",
       "      <td>0.0</td>\n",
       "      <td>74020918</td>\n",
       "    </tr>\n",
       "    <tr>\n",
       "      <th>7234</th>\n",
       "      <td>eos</td>\n",
       "      <td>Apr 29, 2013</td>\n",
       "      <td>4.37</td>\n",
       "      <td>4.57</td>\n",
       "      <td>4.23</td>\n",
       "      <td>4.38</td>\n",
       "      <td>0.0</td>\n",
       "      <td>75388964</td>\n",
       "    </tr>\n",
       "    <tr>\n",
       "      <th>7235</th>\n",
       "      <td>eos</td>\n",
       "      <td>Apr 28, 2013</td>\n",
       "      <td>4.30</td>\n",
       "      <td>4.40</td>\n",
       "      <td>4.18</td>\n",
       "      <td>4.35</td>\n",
       "      <td>0.0</td>\n",
       "      <td>74636938</td>\n",
       "    </tr>\n",
       "  </tbody>\n",
       "</table>\n",
       "</div>"
      ],
      "text/plain": [
       "     Currency          Date  Open  High   Low  Close  Volume  Market Cap\n",
       "7231      eos  May 02, 2013  3.78  4.04  3.01   3.37     0.0    58287979\n",
       "7232      eos  May 01, 2013  4.29  4.36  3.52   3.80     0.0    65604596\n",
       "7233      eos  Apr 30, 2013  4.40  4.57  4.17   4.30     0.0    74020918\n",
       "7234      eos  Apr 29, 2013  4.37  4.57  4.23   4.38     0.0    75388964\n",
       "7235      eos  Apr 28, 2013  4.30  4.40  4.18   4.35     0.0    74636938"
      ]
     },
     "execution_count": 5,
     "metadata": {},
     "output_type": "execute_result"
    }
   ],
   "source": [
    "df.tail()"
   ]
  },
  {
   "cell_type": "code",
   "execution_count": 6,
   "id": "012ae9ab",
   "metadata": {},
   "outputs": [],
   "source": [
    "import matplotlib.pyplot as plt"
   ]
  },
  {
   "cell_type": "code",
   "execution_count": 7,
   "id": "a4c9104e",
   "metadata": {},
   "outputs": [
    {
     "data": {
      "text/plain": [
       "<matplotlib.collections.PathCollection at 0x2424d61ca00>"
      ]
     },
     "execution_count": 7,
     "metadata": {},
     "output_type": "execute_result"
    },
    {
     "data": {
      "image/png": "[encoded data removed]",
      "text/plain": [
       "<Figure size 432x288 with 1 Axes>"
      ]
     },
     "metadata": {
      "needs_background": "light"
     },
     "output_type": "display_data"
    }
   ],
   "source": [
    "plt.scatter(df['Currency'],df['Volume'],c=df['Market Cap'])"
   ]
  },
  {
   "cell_type": "code",
   "execution_count": 8,
   "id": "4c2115c8",
   "metadata": {},
   "outputs": [
    {
     "data": {
      "text/plain": [
       "Currency       object\n",
       "Date           object\n",
       "Open          float64\n",
       "High          float64\n",
       "Low           float64\n",
       "Close         float64\n",
       "Volume        float64\n",
       "Market Cap      int64\n",
       "dtype: object"
      ]
     },
     "execution_count": 8,
     "metadata": {},
     "output_type": "execute_result"
    }
   ],
   "source": [
    "df.dtypes\n",
    "#matain daat type x in float and y in object"
   ]
  },
  {
   "cell_type": "code",
   "execution_count": 9,
   "id": "b0498d22",
   "metadata": {},
   "outputs": [],
   "source": [
    "#df = float('Volume')"
   ]
  },
  {
   "cell_type": "code",
   "execution_count": 10,
   "id": "8cd9abf9",
   "metadata": {
    "scrolled": true
   },
   "outputs": [],
   "source": [
    "x = df.iloc[:,6:8].values      \n",
    "#if x ids not in float then its get convert ointo float"
   ]
  },
  {
   "cell_type": "code",
   "execution_count": 11,
   "id": "d828e499",
   "metadata": {},
   "outputs": [
    {
     "data": {
      "text/plain": [
       "array([[4.60487520e+07, 8.24588509e+08],\n",
       "       [4.14622240e+07, 8.53213342e+08],\n",
       "       [2.75740970e+07, 8.17872179e+08],\n",
       "       ...,\n",
       "       [0.00000000e+00, 7.40209180e+07],\n",
       "       [0.00000000e+00, 7.53889640e+07],\n",
       "       [0.00000000e+00, 7.46369380e+07]])"
      ]
     },
     "execution_count": 11,
     "metadata": {},
     "output_type": "execute_result"
    }
   ],
   "source": [
    "x"
   ]
  },
  {
   "cell_type": "code",
   "execution_count": 12,
   "id": "5e72edbc",
   "metadata": {},
   "outputs": [],
   "source": [
    "y = df.iloc[:,0].values"
   ]
  },
  {
   "cell_type": "code",
   "execution_count": 13,
   "id": "045b43d6",
   "metadata": {},
   "outputs": [
    {
     "data": {
      "text/plain": [
       "array(['tezos', 'tezos', 'tezos', ..., 'eos', 'eos', 'eos'], dtype=object)"
      ]
     },
     "execution_count": 13,
     "metadata": {},
     "output_type": "execute_result"
    }
   ],
   "source": [
    "y"
   ]
  },
  {
   "cell_type": "code",
   "execution_count": 14,
   "id": "eb2ea9f0",
   "metadata": {},
   "outputs": [],
   "source": [
    "from sklearn.preprocessing import LabelEncoder\n",
    "\n",
    "# we have to lable encode to y"
   ]
  },
  {
   "cell_type": "code",
   "execution_count": 15,
   "id": "f51a52e7",
   "metadata": {},
   "outputs": [],
   "source": [
    "LabelEncoder_y = LabelEncoder()\n",
    "y = LabelEncoder_y.fit_transform(y)"
   ]
  },
  {
   "cell_type": "code",
   "execution_count": 16,
   "id": "34246898",
   "metadata": {},
   "outputs": [
    {
     "data": {
      "text/plain": [
       "array([2, 2, 2, ..., 1, 1, 1])"
      ]
     },
     "execution_count": 16,
     "metadata": {},
     "output_type": "execute_result"
    }
   ],
   "source": [
    "y"
   ]
  },
  {
   "cell_type": "code",
   "execution_count": 17,
   "id": "799683fb",
   "metadata": {},
   "outputs": [],
   "source": [
    "# import train_test_split model\n",
    "\n",
    "from sklearn.model_selection import train_test_split"
   ]
  },
  {
   "cell_type": "code",
   "execution_count": 18,
   "id": "14d51219",
   "metadata": {},
   "outputs": [],
   "source": [
    "x_train,x_test,y_train,y_test= train_test_split(x,y,test_size=0.2)"
   ]
  },
  {
   "cell_type": "code",
   "execution_count": 19,
   "id": "f7e0a263",
   "metadata": {},
   "outputs": [],
   "source": [
    "#1. Logistic Regression"
   ]
  },
  {
   "cell_type": "code",
   "execution_count": 20,
   "id": "63e70d2d",
   "metadata": {},
   "outputs": [
    {
     "name": "stdout",
     "output_type": "stream",
     "text": [
      "<class 'pandas.core.frame.DataFrame'>\n",
      "RangeIndex: 7236 entries, 0 to 7235\n",
      "Data columns (total 8 columns):\n",
      " #   Column      Non-Null Count  Dtype  \n",
      "---  ------      --------------  -----  \n",
      " 0   Currency    7236 non-null   object \n",
      " 1   Date        7236 non-null   object \n",
      " 2   Open        7236 non-null   float64\n",
      " 3   High        7236 non-null   float64\n",
      " 4   Low         7236 non-null   float64\n",
      " 5   Close       7236 non-null   float64\n",
      " 6   Volume      7236 non-null   float64\n",
      " 7   Market Cap  7236 non-null   int64  \n",
      "dtypes: float64(5), int64(1), object(2)\n",
      "memory usage: 452.4+ KB\n"
     ]
    }
   ],
   "source": [
    "df.info()"
   ]
  },
  {
   "cell_type": "code",
   "execution_count": 21,
   "id": "32855807",
   "metadata": {},
   "outputs": [],
   "source": [
    "from sklearn.linear_model import LogisticRegression\n",
    "logmodel = LogisticRegression()\n"
   ]
  },
  {
   "cell_type": "code",
   "execution_count": 22,
   "id": "a28e2619",
   "metadata": {},
   "outputs": [
    {
     "data": {
      "text/plain": [
       "LogisticRegression()"
      ]
     },
     "execution_count": 22,
     "metadata": {},
     "output_type": "execute_result"
    }
   ],
   "source": [
    "logmodel.fit(x_train,y_train)"
   ]
  },
  {
   "cell_type": "code",
   "execution_count": 23,
   "id": "0d422714",
   "metadata": {},
   "outputs": [],
   "source": [
    "y_pred = logmodel.predict(x_test)"
   ]
  },
  {
   "cell_type": "code",
   "execution_count": 24,
   "id": "327457c2",
   "metadata": {},
   "outputs": [
    {
     "data": {
      "text/plain": [
       "array([2, 0, 0, ..., 1, 0, 0])"
      ]
     },
     "execution_count": 24,
     "metadata": {},
     "output_type": "execute_result"
    }
   ],
   "source": [
    "y_pred"
   ]
  },
  {
   "cell_type": "code",
   "execution_count": 25,
   "id": "b045313c",
   "metadata": {},
   "outputs": [
    {
     "data": {
      "text/plain": [
       "array([2, 1, 0, ..., 1, 0, 1])"
      ]
     },
     "execution_count": 25,
     "metadata": {},
     "output_type": "execute_result"
    }
   ],
   "source": [
    "y_test"
   ]
  },
  {
   "cell_type": "code",
   "execution_count": 26,
   "id": "51bd73b8",
   "metadata": {},
   "outputs": [],
   "source": [
    "#KNeighbors"
   ]
  },
  {
   "cell_type": "code",
   "execution_count": 31,
   "id": "290b76e0",
   "metadata": {},
   "outputs": [
    {
     "data": {
      "text/plain": [
       "KNeighborsClassifier()"
      ]
     },
     "execution_count": 31,
     "metadata": {},
     "output_type": "execute_result"
    }
   ],
   "source": [
    "\n",
    "from sklearn.neighbors import KNeighborsClassifier\n",
    "classifier_knn= KNeighborsClassifier(n_neighbors=5,metric='minkowski',p=2)\n",
    "classifier_knn.fit(x_train,y_train)\n",
    "\n",
    "#find nearest 5 neighbours then predict outcomes"
   ]
  },
  {
   "cell_type": "code",
   "execution_count": 32,
   "id": "83d8fe71",
   "metadata": {},
   "outputs": [],
   "source": [
    "y_pred =classifier_knn.predict(x_test)"
   ]
  },
  {
   "cell_type": "code",
   "execution_count": 33,
   "id": "a9fe74fa",
   "metadata": {},
   "outputs": [
    {
     "data": {
      "text/plain": [
       "array([2, 1, 0, ..., 1, 0, 0])"
      ]
     },
     "execution_count": 33,
     "metadata": {},
     "output_type": "execute_result"
    }
   ],
   "source": [
    "y_pred"
   ]
  },
  {
   "cell_type": "code",
   "execution_count": 34,
   "id": "7ad4758f",
   "metadata": {},
   "outputs": [],
   "source": [
    "#SVM(support vector machine)"
   ]
  },
  {
   "cell_type": "code",
   "execution_count": 35,
   "id": "5665e292",
   "metadata": {},
   "outputs": [
    {
     "data": {
      "text/plain": [
       "SVC(kernel='sigmoid')"
      ]
     },
     "execution_count": 35,
     "metadata": {},
     "output_type": "execute_result"
    }
   ],
   "source": [
    "\n",
    "from sklearn.svm import SVC\n",
    "classifier_svm_sigmoid = SVC(kernel='sigmoid')\n",
    "classifier_svm_sigmoid.fit(x_train,y_train)\n",
    "\n",
    "\n",
    "#SVM(support vector machine) in that they have many kernel like sigmoid,polynoial,linear,etc."
   ]
  },
  {
   "cell_type": "code",
   "execution_count": 36,
   "id": "c83c3199",
   "metadata": {},
   "outputs": [],
   "source": [
    "y_pred =classifier_svm_sigmoid.predict(x_test)"
   ]
  },
  {
   "cell_type": "code",
   "execution_count": 37,
   "id": "9e740821",
   "metadata": {},
   "outputs": [
    {
     "data": {
      "text/plain": [
       "array([2, 0, 1, ..., 2, 1, 0])"
      ]
     },
     "execution_count": 37,
     "metadata": {},
     "output_type": "execute_result"
    }
   ],
   "source": [
    "y_pred"
   ]
  },
  {
   "cell_type": "code",
   "execution_count": null,
   "id": "9dbdce79",
   "metadata": {},
   "outputs": [],
   "source": [
    "\n",
    "from sklearn.svm import SVC\n",
    "classifier_svm_linear = SVC(kernel='linear')\n",
    "classifier_svm_linear.fit(x_train,y_train)\n"
   ]
  },
  {
   "cell_type": "code",
   "execution_count": null,
   "id": "43c3c82a",
   "metadata": {},
   "outputs": [],
   "source": [
    "y_pred =classifier_svm_linear.predict(x_test)"
   ]
  },
  {
   "cell_type": "code",
   "execution_count": null,
   "id": "5a3f9bdc",
   "metadata": {},
   "outputs": [],
   "source": [
    "y_pred"
   ]
  },
  {
   "cell_type": "code",
   "execution_count": 38,
   "id": "6f133aa3",
   "metadata": {},
   "outputs": [
    {
     "data": {
      "text/plain": [
       "SVC(kernel='poly')"
      ]
     },
     "execution_count": 38,
     "metadata": {},
     "output_type": "execute_result"
    }
   ],
   "source": [
    "\n",
    "from sklearn.svm import SVC\n",
    "classifier_svm_poly = SVC(kernel='poly')\n",
    "classifier_svm_poly.fit(x_train,y_train)\n"
   ]
  },
  {
   "cell_type": "code",
   "execution_count": 39,
   "id": "396ae543",
   "metadata": {},
   "outputs": [],
   "source": [
    "y_pred =classifier_svm_poly.predict(x_test)"
   ]
  },
  {
   "cell_type": "code",
   "execution_count": 40,
   "id": "d91c0177",
   "metadata": {},
   "outputs": [
    {
     "data": {
      "text/plain": [
       "array([2, 2, 0, ..., 1, 2, 2])"
      ]
     },
     "execution_count": 40,
     "metadata": {},
     "output_type": "execute_result"
    }
   ],
   "source": [
    "y_pred"
   ]
  },
  {
   "cell_type": "code",
   "execution_count": 41,
   "id": "4e5ef5bc",
   "metadata": {},
   "outputs": [],
   "source": [
    "#Decission tree"
   ]
  },
  {
   "cell_type": "code",
   "execution_count": 42,
   "id": "7bdb10ca",
   "metadata": {},
   "outputs": [
    {
     "data": {
      "text/plain": [
       "DecisionTreeClassifier(criterion='entropy')"
      ]
     },
     "execution_count": 42,
     "metadata": {},
     "output_type": "execute_result"
    }
   ],
   "source": [
    "\n",
    "from sklearn.tree import DecisionTreeClassifier\n",
    "classifier_dt = DecisionTreeClassifier (criterion='entropy')\n",
    "classifier_dt.fit(x_train,y_train)\n",
    "\n",
    "#entropy is nothing but measure of impurity,its to decide impurity in data is high or not as compaire to data"
   ]
  },
  {
   "cell_type": "code",
   "execution_count": 43,
   "id": "222d25fc",
   "metadata": {},
   "outputs": [],
   "source": [
    "y_pred =classifier_dt.predict(x_test)"
   ]
  },
  {
   "cell_type": "code",
   "execution_count": 44,
   "id": "268e5280",
   "metadata": {},
   "outputs": [
    {
     "data": {
      "text/plain": [
       "array([2, 0, 0, ..., 1, 0, 0])"
      ]
     },
     "execution_count": 44,
     "metadata": {},
     "output_type": "execute_result"
    }
   ],
   "source": [
    "y_pred"
   ]
  },
  {
   "cell_type": "code",
   "execution_count": 45,
   "id": "81977823",
   "metadata": {},
   "outputs": [],
   "source": [
    "#RandomForest"
   ]
  },
  {
   "cell_type": "code",
   "execution_count": 46,
   "id": "7c486ca2",
   "metadata": {},
   "outputs": [
    {
     "data": {
      "text/plain": [
       "RandomForestClassifier(criterion='entropy', n_estimators=3)"
      ]
     },
     "execution_count": 46,
     "metadata": {},
     "output_type": "execute_result"
    }
   ],
   "source": [
    "\n",
    "from sklearn.ensemble import RandomForestClassifier\n",
    "classifier_rf = RandomForestClassifier (n_estimators=3,criterion='entropy')\n",
    "classifier_rf.fit(x_train,y_train)\n",
    "\n",
    "#estimator is the how many times we have to run decision tree"
   ]
  },
  {
   "cell_type": "code",
   "execution_count": 47,
   "id": "8d04e0f8",
   "metadata": {},
   "outputs": [],
   "source": [
    "y_pred =classifier_rf.predict(x_test)"
   ]
  },
  {
   "cell_type": "code",
   "execution_count": 48,
   "id": "c5724e01",
   "metadata": {},
   "outputs": [
    {
     "data": {
      "text/plain": [
       "array([2, 0, 0, ..., 1, 0, 0])"
      ]
     },
     "execution_count": 48,
     "metadata": {},
     "output_type": "execute_result"
    }
   ],
   "source": [
    "y_pred"
   ]
  },
  {
   "cell_type": "code",
   "execution_count": 49,
   "id": "d91fea03",
   "metadata": {},
   "outputs": [],
   "source": [
    "from sklearn.metrics import accuracy_score"
   ]
  },
  {
   "cell_type": "code",
   "execution_count": 50,
   "id": "89f9b526",
   "metadata": {},
   "outputs": [
    {
     "data": {
      "text/plain": [
       "0.4979281767955801"
      ]
     },
     "execution_count": 50,
     "metadata": {},
     "output_type": "execute_result"
    }
   ],
   "source": [
    "accuracy_score(y_test,y_pred)"
   ]
  },
  {
   "cell_type": "code",
   "execution_count": null,
   "id": "5a7d52b2",
   "metadata": {},
   "outputs": [],
   "source": []
  }
 ],
 "metadata": {
  "kernelspec": {
   "display_name": "Python 3",
   "language": "python",
   "name": "python3"
  },
  "language_info": {
   "codemirror_mode": {
    "name": "ipython",
    "version": 3
   },
   "file_extension": ".py",
   "mimetype": "text/x-python",
   "name": "python",
   "nbconvert_exporter": "python",
   "pygments_lexer": "ipython3",
   "version": "3.8.8"
  }
 },
 "nbformat": 4,
 "nbformat_minor": 5
}
